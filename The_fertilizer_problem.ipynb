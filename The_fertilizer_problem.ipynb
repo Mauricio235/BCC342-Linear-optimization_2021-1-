{
  "nbformat": 4,
  "nbformat_minor": 0,
  "metadata": {
    "colab": {
      "name": "The fertilizer problem.ipynb",
      "provenance": [],
      "authorship_tag": "ABX9TyOmUcxh/NmO6ujIiVvYcdqx",
      "include_colab_link": true
    },
    "kernelspec": {
      "name": "python3",
      "display_name": "Python 3"
    }
  },
  "cells": [
    {
      "cell_type": "markdown",
      "metadata": {
        "id": "view-in-github",
        "colab_type": "text"
      },
      "source": [
        "<a href=\"https://colab.research.google.com/github/Mauricio235/BCC342-Linear-optimization_2021-1-/blob/main/The_fertilizer_problem.ipynb\" target=\"_parent\"><img src=\"https://colab.research.google.com/assets/colab-badge.svg\" alt=\"Open In Colab\"/></a>"
      ]
    },
    {
      "cell_type": "markdown",
      "metadata": {
        "id": "bADJkic1vZq7"
      },
      "source": [
        "## The fertilizer problem"
      ]
    },
    {
      "cell_type": "code",
      "metadata": {
        "colab": {
          "base_uri": "https://localhost:8080/"
        },
        "id": "4qoQWQ-IE8EQ",
        "outputId": "b4e256a4-eeb6-49b3-d4c8-8717b509141d"
      },
      "source": [
        "!pip install mip"
      ],
      "execution_count": null,
      "outputs": [
        {
          "output_type": "stream",
          "text": [
            "Collecting mip\n",
            "\u001b[?25l  Downloading https://files.pythonhosted.org/packages/e5/7c/615a417b8b74dde4c3573f09c79612e3e0ed8c9b9488daf67e86cde350d2/mip-1.13.0-py3-none-any.whl (48.0MB)\n",
            "\u001b[K     |████████████████████████████████| 48.0MB 92kB/s \n",
            "\u001b[?25hRequirement already satisfied: cffi in /usr/local/lib/python3.6/dist-packages (from mip) (1.14.4)\n",
            "Requirement already satisfied: pycparser in /usr/local/lib/python3.6/dist-packages (from cffi->mip) (2.20)\n",
            "Installing collected packages: mip\n",
            "Successfully installed mip-1.13.0\n"
          ],
          "name": "stdout"
        }
      ]
    },
    {
      "cell_type": "code",
      "metadata": {
        "id": "NCESqUZrFUCT"
      },
      "source": [
        "from mip import Model, xsum, INTEGER, MAXIMIZE, MINIMIZE, CONTINUOUS"
      ],
      "execution_count": null,
      "outputs": []
    },
    {
      "cell_type": "code",
      "metadata": {
        "id": "ON0QB3TuFwi2"
      },
      "source": [
        "nvars=3\r\n",
        "obj_coef=[50, 40, 60]\r\n",
        "g_coef= [[10, 5, 10], [1, 1, 1]]\r\n",
        "g_val= [100000, 12000]\r\n",
        "\r\n",
        "m= Model('Fertilizantes', sense=MINIMIZE)\r\n"
      ],
      "execution_count": null,
      "outputs": []
    },
    {
      "cell_type": "code",
      "metadata": {
        "colab": {
          "base_uri": "https://localhost:8080/"
        },
        "id": "-1b6gyLWIz-B",
        "outputId": "48c36447-5f67-4fd6-9c76-0cd4c3af13d7"
      },
      "source": [
        "x = [m.add_var(name='x{}'.format(int(i)),var_type=CONTINUOUS,lb=0) for i in range(nvars)]\r\n",
        "print(x)"
      ],
      "execution_count": null,
      "outputs": [
        {
          "output_type": "stream",
          "text": [
            "[<mip.entities.Var object at 0x7f946e556f60>, <mip.entities.Var object at 0x7f946e5566a0>, <mip.entities.Var object at 0x7f946e556f28>]\n"
          ],
          "name": "stdout"
        }
      ]
    },
    {
      "cell_type": "code",
      "metadata": {
        "id": "ULj09VhGJN_I"
      },
      "source": [
        "m.objective= xsum(obj_coef[i]*x[i] for i in range (nvars))"
      ],
      "execution_count": null,
      "outputs": []
    },
    {
      "cell_type": "code",
      "metadata": {
        "id": "M-RpUEr6JzrS"
      },
      "source": [
        "m +=x[0]>=5000\r\n",
        "for i in range(len(g_val)):\r\n",
        "  m += xsum(g_coef[i][j]*x[j] for j in range(nvars)) >= g_val[i]"
      ],
      "execution_count": null,
      "outputs": []
    },
    {
      "cell_type": "code",
      "metadata": {
        "colab": {
          "base_uri": "https://localhost:8080/"
        },
        "id": "itHky68cKZcD",
        "outputId": "f9a9dbc7-59c3-4e85-ebbf-7d9d5188c32c"
      },
      "source": [
        "m.optimize()"
      ],
      "execution_count": null,
      "outputs": [
        {
          "output_type": "execute_result",
          "data": {
            "text/plain": [
              "<OptimizationStatus.OPTIMAL: 0>"
            ]
          },
          "metadata": {
            "tags": []
          },
          "execution_count": 14
        }
      ]
    },
    {
      "cell_type": "code",
      "metadata": {
        "colab": {
          "base_uri": "https://localhost:8080/"
        },
        "id": "touRvVvjKlmF",
        "outputId": "d0f932fa-8e8d-4525-b27c-a02f8b3ac059"
      },
      "source": [
        "print('Optimal Solution: {}'.format([x[i].x for i in range(nvars)]))"
      ],
      "execution_count": null,
      "outputs": [
        {
          "output_type": "stream",
          "text": [
            "Optimal Solution: [8000.0, 4000.0, 0.0]\n"
          ],
          "name": "stdout"
        }
      ]
    }
  ]
}