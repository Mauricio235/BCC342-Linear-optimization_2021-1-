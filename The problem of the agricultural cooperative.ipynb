{
  "nbformat": 4,
  "nbformat_minor": 0,
  "metadata": {
    "colab": {
      "name": "O problema da cooperativa agricola",
      "provenance": [],
      "authorship_tag": "ABX9TyNa73lLbNq07nH4kR3P7VYi",
      "include_colab_link": true
    },
    "kernelspec": {
      "name": "python3",
      "display_name": "Python 3"
    }
  },
  "cells": [
    {
      "cell_type": "markdown",
      "metadata": {
        "id": "view-in-github",
        "colab_type": "text"
      },
      "source": [
        "<a href=\"https://colab.research.google.com/github/Mauricio235/BCC342-Linear-optimization_2021-1-/blob/main/The%20problem%20of%20the%20agricultural%20cooperative.ipynb\" target=\"_parent\"><img src=\"https://colab.research.google.com/assets/colab-badge.svg\" alt=\"Open In Colab\"/></a>"
      ]
    },
    {
      "cell_type": "code",
      "metadata": {
        "colab": {
          "base_uri": "https://localhost:8080/"
        },
        "id": "VpwYRZCAlvn-",
        "outputId": "0a26a103-3e26-4db1-f448-02c45e51b17a"
      },
      "source": [
        "!pip install mip"
      ],
      "execution_count": null,
      "outputs": [
        {
          "output_type": "stream",
          "text": [
            "Collecting mip\n",
            "\u001b[?25l  Downloading https://files.pythonhosted.org/packages/e5/7c/615a417b8b74dde4c3573f09c79612e3e0ed8c9b9488daf67e86cde350d2/mip-1.13.0-py3-none-any.whl (48.0MB)\n",
            "\u001b[K     |████████████████████████████████| 48.0MB 92kB/s \n",
            "\u001b[?25hRequirement already satisfied: cffi in /usr/local/lib/python3.6/dist-packages (from mip) (1.14.4)\n",
            "Requirement already satisfied: pycparser in /usr/local/lib/python3.6/dist-packages (from cffi->mip) (2.20)\n",
            "Installing collected packages: mip\n",
            "Successfully installed mip-1.13.0\n"
          ],
          "name": "stdout"
        }
      ]
    },
    {
      "cell_type": "code",
      "metadata": {
        "id": "t4QQ_JI4nqh1"
      },
      "source": [
        "from mip import Model, xsum, CONTINUOUS, MINIMIZE, MAXIMIZE, INTEGER"
      ],
      "execution_count": null,
      "outputs": []
    },
    {
      "cell_type": "code",
      "metadata": {
        "id": "gyNeHxPpmBwd"
      },
      "source": [
        "nvars= 9\r\n",
        "obj_coef= [[5000, 5000, 5000],\r\n",
        "           [4000, 4000, 4000],\r\n",
        "           [1800, 1800, 1800]]\r\n",
        "fg_coef= [[1, 1, 1],\r\n",
        "         [1, 1, 1],\r\n",
        "         [1, 1, 1]]\r\n",
        "g_val=[660, 880, 400]\r\n",
        "\r\n",
        "f_val=[400, 650, 350]\r\n",
        "h_coef= [[5.5, 4, 3.5],\r\n",
        "         [5.5, 4, 3.5],\r\n",
        "         [5.5, 4, 3.5]]\r\n",
        "h_val=[1800, 2200, 950]\r\n",
        "\r\n",
        "m = Model('Colheita Agricola', sense=MAXIMIZE)"
      ],
      "execution_count": null,
      "outputs": []
    },
    {
      "cell_type": "code",
      "metadata": {
        "id": "xKh3mPwZzxtg",
        "colab": {
          "base_uri": "https://localhost:8080/"
        },
        "outputId": "cd29cb9f-8aa5-4882-9591-3eab8e0dfd44"
      },
      "source": [
        "print(obj_coef)"
      ],
      "execution_count": null,
      "outputs": [
        {
          "output_type": "stream",
          "text": [
            "[[5000, 5000, 5000], [4000, 4000, 4000], [1800, 1800, 1800]]\n"
          ],
          "name": "stdout"
        }
      ]
    },
    {
      "cell_type": "code",
      "metadata": {
        "colab": {
          "base_uri": "https://localhost:8080/"
        },
        "id": "M8PDlerKmJxr",
        "outputId": "e23cde52-e742-4c94-da4a-adb8ab5a0592"
      },
      "source": [
        "x= [[m.add_var(var_type=CONTINUOUS, lb=0)   for j in range (3)] for i in range (3)]\r\n",
        "print(x)"
      ],
      "execution_count": null,
      "outputs": [
        {
          "output_type": "stream",
          "text": [
            "[[<mip.entities.Var object at 0x7fd7f7a93668>, <mip.entities.Var object at 0x7fd7f7a93c50>, <mip.entities.Var object at 0x7fd7f7a93048>], [<mip.entities.Var object at 0x7fd7f7a93cf8>, <mip.entities.Var object at 0x7fd7f7a93710>, <mip.entities.Var object at 0x7fd7f7a93b38>], [<mip.entities.Var object at 0x7fd7f7a93630>, <mip.entities.Var object at 0x7fd7f7a93a20>, <mip.entities.Var object at 0x7fd7f7a93390>]]\n"
          ],
          "name": "stdout"
        }
      ]
    },
    {
      "cell_type": "code",
      "metadata": {
        "id": "D7IEC9Iapffn"
      },
      "source": [
        "m.objective= xsum(obj_coef[i][j]*x[i][j] for i in range (3) for j in range (3))"
      ],
      "execution_count": null,
      "outputs": []
    },
    {
      "cell_type": "code",
      "metadata": {
        "id": "YEi4_FayrLSz"
      },
      "source": [
        "for i in range (len(g_val)):\r\n",
        "  m += xsum(fg_coef[i][j]*x[i][j] for j in range (len(g_val)))<= g_val[i]\r\n",
        "\r\n",
        "for i in range (len(h_val)):\r\n",
        "  m += xsum(h_coef[i][j]*x[j][i] for j in range (len(h_val)))<= h_val[i]\r\n",
        "\r\n",
        "for i in range (len(f_val)):\r\n",
        "  m += xsum(fg_coef[i][j]*x[j][i] for j in range (len(f_val)))<= f_val[i]\r\n",
        "\r\n",
        "m+= x[0][0]+x[1][0]+x[2][0]==x[0][1]+x[1][1]+x[2][1]==x[0][2]+x[1][2]+x[2][2]"
      ],
      "execution_count": null,
      "outputs": []
    },
    {
      "cell_type": "code",
      "metadata": {
        "colab": {
          "base_uri": "https://localhost:8080/"
        },
        "id": "AK8nEGO5uCmm",
        "outputId": "7a2b2631-9f07-471a-9976-350a55a862aa"
      },
      "source": [
        "m.optimize()"
      ],
      "execution_count": null,
      "outputs": [
        {
          "output_type": "execute_result",
          "data": {
            "text/plain": [
              "<OptimizationStatus.OPTIMAL: 0>"
            ]
          },
          "metadata": {
            "tags": []
          },
          "execution_count": 22
        }
      ]
    },
    {
      "cell_type": "code",
      "metadata": {
        "colab": {
          "base_uri": "https://localhost:8080/"
        },
        "id": "DDVXjhm4uGjr",
        "outputId": "884fdab2-7fb5-49c7-86a2-0d5c64ade936"
      },
      "source": [
        "print('Optimal Solution: {}'.format([x[i][j].x for i in range(3) for j in range(3)])) "
      ],
      "execution_count": null,
      "outputs": [
        {
          "output_type": "stream",
          "text": [
            "Optimal Solution: [133.33333333333337, 237.5, 0.0, 266.66666666666663, 0.0, 237.5, 0.0, 0.0, 0.0]\n"
          ],
          "name": "stdout"
        }
      ]
    }
  ]
}