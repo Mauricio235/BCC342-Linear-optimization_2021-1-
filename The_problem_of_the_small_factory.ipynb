{
  "nbformat": 4,
  "nbformat_minor": 0,
  "metadata": {
    "colab": {
      "name": "The problem of the small factory",
      "provenance": [],
      "authorship_tag": "ABX9TyNkPKP+tXOSJCTvWaXYbW1q",
      "include_colab_link": true
    },
    "kernelspec": {
      "name": "python3",
      "display_name": "Python 3"
    }
  },
  "cells": [
    {
      "cell_type": "markdown",
      "metadata": {
        "id": "view-in-github",
        "colab_type": "text"
      },
      "source": [
        "<a href=\"https://colab.research.google.com/github/Mauricio235/BCC342-Linear-optimization_2021-1-/blob/main/The_problem_of_the_small_factory.ipynb\" target=\"_parent\"><img src=\"https://colab.research.google.com/assets/colab-badge.svg\" alt=\"Open In Colab\"/></a>"
      ]
    },
    {
      "cell_type": "markdown",
      "metadata": {
        "id": "My-7T8uown9S"
      },
      "source": [
        "# The problem of the small factory"
      ]
    },
    {
      "cell_type": "code",
      "metadata": {
        "colab": {
          "base_uri": "https://localhost:8080/"
        },
        "id": "QW1ADzVM3kPb",
        "outputId": "aa4c6eb8-ad33-4014-a5eb-be09ae64df28"
      },
      "source": [
        "!pip install mip"
      ],
      "execution_count": null,
      "outputs": [
        {
          "output_type": "stream",
          "text": [
            "Requirement already satisfied: mip in /usr/local/lib/python3.6/dist-packages (1.13.0)\n",
            "Requirement already satisfied: cffi in /usr/local/lib/python3.6/dist-packages (from mip) (1.14.4)\n",
            "Requirement already satisfied: pycparser in /usr/local/lib/python3.6/dist-packages (from cffi->mip) (2.20)\n"
          ],
          "name": "stdout"
        }
      ]
    },
    {
      "cell_type": "code",
      "metadata": {
        "id": "2AJil8uI31LX"
      },
      "source": [
        "from mip import Model, xsum, CONTINUOUS, MAXIMIZE, MINIMIZE, INTEGER"
      ],
      "execution_count": null,
      "outputs": []
    },
    {
      "cell_type": "code",
      "metadata": {
        "id": "K8tQCHBn3_CK"
      },
      "source": [
        "nvars=2\r\n",
        "obj_coef= [2, 5]\r\n",
        "g_coef= [[3, 4], [9, 7]]\r\n",
        "\r\n",
        "hg_val= [200, 300]\r\n",
        "\r\n",
        "m= Model(name='Pequena Fabrica', sense= MAXIMIZE)  "
      ],
      "execution_count": null,
      "outputs": []
    },
    {
      "cell_type": "code",
      "metadata": {
        "colab": {
          "base_uri": "https://localhost:8080/"
        },
        "id": "EoJR92rD5RTF",
        "outputId": "e4b96337-9ad4-48a7-9e83-4e1a0936a385"
      },
      "source": [
        "x= [m.add_var(name= 'x{}'.format(int(i)), var_type=INTEGER, lb=0) for i in range (nvars)]\r\n",
        "print(x)"
      ],
      "execution_count": null,
      "outputs": [
        {
          "output_type": "stream",
          "text": [
            "[<mip.entities.Var object at 0x7f828d1c0940>, <mip.entities.Var object at 0x7f828d1c0438>]\n"
          ],
          "name": "stdout"
        }
      ]
    },
    {
      "cell_type": "code",
      "metadata": {
        "id": "d0wf9BMQ6W4h"
      },
      "source": [
        "m.objective= xsum(obj_coef[i]*x[i] for i in range (nvars))"
      ],
      "execution_count": null,
      "outputs": []
    },
    {
      "cell_type": "code",
      "metadata": {
        "id": "FMTJs7fW6nw1"
      },
      "source": [
        "for i in range (len(hg_val)):\r\n",
        "  m += xsum(g_coef[i][j]*x[j] for j in range (nvars) )<= hg_val[i]"
      ],
      "execution_count": null,
      "outputs": []
    },
    {
      "cell_type": "code",
      "metadata": {
        "colab": {
          "base_uri": "https://localhost:8080/"
        },
        "id": "j6o1a-cm-gA5",
        "outputId": "f7be0394-1407-410c-fac8-f7ded2931631"
      },
      "source": [
        "m.optimize()"
      ],
      "execution_count": null,
      "outputs": [
        {
          "output_type": "execute_result",
          "data": {
            "text/plain": [
              "<OptimizationStatus.OPTIMAL: 0>"
            ]
          },
          "metadata": {
            "tags": []
          },
          "execution_count": 31
        }
      ]
    },
    {
      "cell_type": "code",
      "metadata": {
        "colab": {
          "base_uri": "https://localhost:8080/"
        },
        "id": "L_M5FRSp-wua",
        "outputId": "b4783917-aeda-4724-e5a3-654947cac52f"
      },
      "source": [
        "print('Optimal Solution: {}'.format([x[i].x for i in range (nvars)]))"
      ],
      "execution_count": null,
      "outputs": [
        {
          "output_type": "stream",
          "text": [
            "Optimal Solution: [0.0, 42.0]\n"
          ],
          "name": "stdout"
        }
      ]
    }
  ]
}