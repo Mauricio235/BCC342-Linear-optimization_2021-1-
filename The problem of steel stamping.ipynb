{
  "nbformat": 4,
  "nbformat_minor": 0,
  "metadata": {
    "colab": {
      "name": "Untitled0.ipynb",
      "provenance": [],
      "authorship_tag": "ABX9TyOpK8GDHK0OL5Yt239F5ZSS",
      "include_colab_link": true
    },
    "kernelspec": {
      "name": "python3",
      "display_name": "Python 3"
    }
  },
  "cells": [
    {
      "cell_type": "markdown",
      "metadata": {
        "id": "view-in-github",
        "colab_type": "text"
      },
      "source": [
        "<a href=\"https://colab.research.google.com/github/Mauricio235/BCC342-Linear-optimization_2021-1-/blob/main/The%20problem%20of%20steel%20stamping.ipynb\" target=\"_parent\"><img src=\"https://colab.research.google.com/assets/colab-badge.svg\" alt=\"Open In Colab\"/></a>"
      ]
    },
    {
      "cell_type": "markdown",
      "metadata": {
        "id": "qegOfGJzJqQS"
      },
      "source": [
        "# The problem of steel stamping"
      ]
    },
    {
      "cell_type": "code",
      "metadata": {
        "colab": {
          "base_uri": "https://localhost:8080/"
        },
        "id": "QoZExNORJpdI",
        "outputId": "c09321d8-fae5-4c19-aa96-ecce3e8f0772"
      },
      "source": [
        "!pip install mip"
      ],
      "execution_count": 2,
      "outputs": [
        {
          "output_type": "stream",
          "text": [
            "Requirement already satisfied: mip in /usr/local/lib/python3.6/dist-packages (1.13.0)\n",
            "Requirement already satisfied: cffi in /usr/local/lib/python3.6/dist-packages (from mip) (1.14.4)\n",
            "Requirement already satisfied: pycparser in /usr/local/lib/python3.6/dist-packages (from cffi->mip) (2.20)\n"
          ],
          "name": "stdout"
        }
      ]
    },
    {
      "cell_type": "code",
      "metadata": {
        "id": "KJH3Na-LJyus"
      },
      "source": [
        "from mip import Model, xsum, MINIMIZE, MAXIMIZE, INTEGER"
      ],
      "execution_count": 3,
      "outputs": []
    },
    {
      "cell_type": "code",
      "metadata": {
        "id": "M5ZJ_-5bJy2b"
      },
      "source": [
        "nvars=2\r\n",
        "obj_coef= [40, 15]\r\n",
        "g_coef= [4, -1]\r\n",
        "h_coef= [4, 1]\r\n",
        "\r\n",
        "m= Model(name= 'Estampagem de aço', sense=MAXIMIZE)"
      ],
      "execution_count": 4,
      "outputs": []
    },
    {
      "cell_type": "code",
      "metadata": {
        "colab": {
          "base_uri": "https://localhost:8080/"
        },
        "id": "WD_hp1v7Jy6K",
        "outputId": "93050b37-72c4-4eff-c2f4-ea25d809757f"
      },
      "source": [
        "#Model variables\r\n",
        "x= [m.add_var( var_type= INTEGER, lb=0) for i in range (nvars)]\r\n",
        "print(x)"
      ],
      "execution_count": 5,
      "outputs": [
        {
          "output_type": "stream",
          "text": [
            "[<mip.entities.Var object at 0x7efef31f1a58>, <mip.entities.Var object at 0x7efef31f1ac8>]\n"
          ],
          "name": "stdout"
        }
      ]
    },
    {
      "cell_type": "code",
      "metadata": {
        "id": "q9VxGRdoJy-C"
      },
      "source": [
        "#Typing the objective function\r\n",
        "m.objective= xsum(obj_coef[i]*x[i] for i in range (nvars))"
      ],
      "execution_count": 6,
      "outputs": []
    },
    {
      "cell_type": "code",
      "metadata": {
        "id": "WvCLAEKAJzB-"
      },
      "source": [
        "m+= xsum(h_coef[i]*x[i] for i in range (nvars))<=4080\r\n",
        "m+= xsum(g_coef[i]*x[i] for i in range (nvars))>=0"
      ],
      "execution_count": 7,
      "outputs": []
    },
    {
      "cell_type": "code",
      "metadata": {
        "colab": {
          "base_uri": "https://localhost:8080/"
        },
        "id": "KBNWwcGMKDVh",
        "outputId": "1aa15905-9dab-4064-9132-b66936066499"
      },
      "source": [
        "m.optimize()"
      ],
      "execution_count": 8,
      "outputs": [
        {
          "output_type": "execute_result",
          "data": {
            "text/plain": [
              "<OptimizationStatus.OPTIMAL: 0>"
            ]
          },
          "metadata": {
            "tags": []
          },
          "execution_count": 8
        }
      ]
    },
    {
      "cell_type": "code",
      "metadata": {
        "colab": {
          "base_uri": "https://localhost:8080/"
        },
        "id": "XcYUc3hPKDZQ",
        "outputId": "f2a065b9-971e-4243-e076-bff63dcfe882"
      },
      "source": [
        "print('Optimal Solution: {}'.format([x[i].x for i in range(nvars)]))"
      ],
      "execution_count": 9,
      "outputs": [
        {
          "output_type": "stream",
          "text": [
            "Optimal Solution: [510.0, 2040.0]\n"
          ],
          "name": "stdout"
        }
      ]
    }
  ]
}