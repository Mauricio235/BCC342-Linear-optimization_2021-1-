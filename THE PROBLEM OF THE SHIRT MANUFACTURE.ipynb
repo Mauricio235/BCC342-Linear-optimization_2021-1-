{
  "nbformat": 4,
  "nbformat_minor": 0,
  "metadata": {
    "colab": {
      "name": "O PROBLEMA DA FABRICA DE CAMISAS",
      "provenance": [],
      "authorship_tag": "ABX9TyNrUonQc5Ir1UTTReBGiaRZ",
      "include_colab_link": true
    },
    "kernelspec": {
      "name": "python3",
      "display_name": "Python 3"
    }
  },
  "cells": [
    {
      "cell_type": "markdown",
      "metadata": {
        "id": "view-in-github",
        "colab_type": "text"
      },
      "source": [
        "<a href=\"https://colab.research.google.com/github/Mauricio235/BCC342-Linear-optimization_2021-1-/blob/main/THE%20PROBLEM%20OF%20THE%20SHIRT%20MANUFACTURE.ipynb\" target=\"_parent\"><img src=\"https://colab.research.google.com/assets/colab-badge.svg\" alt=\"Open In Colab\"/></a>"
      ]
    },
    {
      "cell_type": "markdown",
      "metadata": {
        "id": "TIT09nlpEM6w"
      },
      "source": [
        "# THE PROBLEM OF THE SHIRT MANUFACTURE"
      ]
    },
    {
      "cell_type": "code",
      "metadata": {
        "colab": {
          "base_uri": "https://localhost:8080/"
        },
        "id": "nrGURtTyyL83",
        "outputId": "2656c99f-560b-433a-c8ff-5c5990b82a9c"
      },
      "source": [
        "!pip install mip"
      ],
      "execution_count": 1,
      "outputs": [
        {
          "output_type": "stream",
          "text": [
            "Collecting mip\n",
            "\u001b[?25l  Downloading https://files.pythonhosted.org/packages/e5/7c/615a417b8b74dde4c3573f09c79612e3e0ed8c9b9488daf67e86cde350d2/mip-1.13.0-py3-none-any.whl (48.0MB)\n",
            "\u001b[K     |████████████████████████████████| 48.0MB 79kB/s \n",
            "\u001b[?25hRequirement already satisfied: cffi in /usr/local/lib/python3.6/dist-packages (from mip) (1.14.4)\n",
            "Requirement already satisfied: pycparser in /usr/local/lib/python3.6/dist-packages (from cffi->mip) (2.20)\n",
            "Installing collected packages: mip\n",
            "Successfully installed mip-1.13.0\n"
          ],
          "name": "stdout"
        }
      ]
    },
    {
      "cell_type": "code",
      "metadata": {
        "id": "H4kOcrGsygOs"
      },
      "source": [
        "from mip import Model, xsum, MINIMIZE, MAXIMIZE, CONTINUOUS, INTEGER"
      ],
      "execution_count": 2,
      "outputs": []
    },
    {
      "cell_type": "code",
      "metadata": {
        "id": "9lz5cZxdysin"
      },
      "source": [
        "nvar=2\r\n",
        "ob_coef=[5, 3.5]\r\n",
        "r_coef= [1.5, 1]\r\n",
        "\r\n",
        "modelo= Model(name='Fabrica de camisas', sense= MAXIMIZE)"
      ],
      "execution_count": 3,
      "outputs": []
    },
    {
      "cell_type": "code",
      "metadata": {
        "id": "kvTfuw45zm14",
        "colab": {
          "base_uri": "https://localhost:8080/"
        },
        "outputId": "9066c379-cbd4-465e-aff5-87c26db6b641"
      },
      "source": [
        "x= [modelo.add_var(var_type=INTEGER, lb=0) for i in range (nvar)]\r\n",
        "print(x)"
      ],
      "execution_count": 4,
      "outputs": [
        {
          "output_type": "stream",
          "text": [
            "[<mip.entities.Var object at 0x7fcd922f6710>, <mip.entities.Var object at 0x7fcd922f6550>]\n"
          ],
          "name": "stdout"
        }
      ]
    },
    {
      "cell_type": "code",
      "metadata": {
        "id": "uFiBlJ45zUzH"
      },
      "source": [
        "modelo.objective= xsum(ob_coef[i]*x[i] for i in range (nvar))"
      ],
      "execution_count": 6,
      "outputs": []
    },
    {
      "cell_type": "code",
      "metadata": {
        "id": "ympY-wie0spw"
      },
      "source": [
        "modelo+=x[0]<=150\r\n",
        "modelo+=x[1]<=300\r\n",
        "for i in range (nvar):\r\n",
        "  modelo+= x[i]>=0\r\n",
        "  \r\n",
        "modelo+=xsum(r_coef[i]*x[i] for i in range (nvar))<=400"
      ],
      "execution_count": 7,
      "outputs": []
    },
    {
      "cell_type": "code",
      "metadata": {
        "colab": {
          "base_uri": "https://localhost:8080/"
        },
        "id": "2lxdxyEw1aDV",
        "outputId": "a4748593-2d55-4301-da9a-3191595ed111"
      },
      "source": [
        "modelo.optimize()"
      ],
      "execution_count": 10,
      "outputs": [
        {
          "output_type": "execute_result",
          "data": {
            "text/plain": [
              "<OptimizationStatus.OPTIMAL: 0>"
            ]
          },
          "metadata": {
            "tags": []
          },
          "execution_count": 10
        }
      ]
    },
    {
      "cell_type": "code",
      "metadata": {
        "colab": {
          "base_uri": "https://localhost:8080/"
        },
        "id": "biRsPJ3y1dvC",
        "outputId": "2a0e254a-6fc9-43d3-ed8b-08d34d661e0a"
      },
      "source": [
        "print([x[i].x for i in range(nvar)])"
      ],
      "execution_count": 11,
      "outputs": [
        {
          "output_type": "stream",
          "text": [
            "[68.0, 298.0]\n"
          ],
          "name": "stdout"
        }
      ]
    }
  ]
}