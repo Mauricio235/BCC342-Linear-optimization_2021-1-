{
  "nbformat": 4,
  "nbformat_minor": 0,
  "metadata": {
    "colab": {
      "name": "O problema das ligas metálicas ",
      "provenance": [],
      "authorship_tag": "ABX9TyO+Sgx7nD37UJKYqOKyHsQA",
      "include_colab_link": true
    },
    "kernelspec": {
      "name": "python3",
      "display_name": "Python 3"
    }
  },
  "cells": [
    {
      "cell_type": "markdown",
      "metadata": {
        "id": "view-in-github",
        "colab_type": "text"
      },
      "source": [
        "<a href=\"https://colab.research.google.com/github/Mauricio235/BCC342-Linear-optimization_2021-1-/blob/main/The%20problem%20of%20metal%20alloys.ipynb\" target=\"_parent\"><img src=\"https://colab.research.google.com/assets/colab-badge.svg\" alt=\"Open In Colab\"/></a>"
      ]
    },
    {
      "cell_type": "code",
      "metadata": {
        "colab": {
          "base_uri": "https://localhost:8080/"
        },
        "id": "n9q0tPNLUciS",
        "outputId": "a969f6aa-d748-403b-df9f-4c128e51bd07"
      },
      "source": [
        "!pip install mip"
      ],
      "execution_count": null,
      "outputs": [
        {
          "output_type": "stream",
          "text": [
            "Requirement already satisfied: mip in /usr/local/lib/python3.6/dist-packages (1.13.0)\n",
            "Requirement already satisfied: cffi in /usr/local/lib/python3.6/dist-packages (from mip) (1.14.4)\n",
            "Requirement already satisfied: pycparser in /usr/local/lib/python3.6/dist-packages (from cffi->mip) (2.20)\n"
          ],
          "name": "stdout"
        }
      ]
    },
    {
      "cell_type": "code",
      "metadata": {
        "id": "OL4FZbRqV0v4"
      },
      "source": [
        "from mip import Model, xsum, MINIMIZE, MAXIMIZE, CONTINUOUS, INTEGER"
      ],
      "execution_count": null,
      "outputs": []
    },
    {
      "cell_type": "code",
      "metadata": {
        "id": "-JkPmK-0UoAF"
      },
      "source": [
        "nvars= 2\r\n",
        "obj_coef=[3000, 5000]\r\n",
        "g_coef=[[0.5, 0.2], [0.25, 0.3], [0.25, 0.5]]\r\n",
        "g_val= [16, 11, 15]\r\n",
        "\r\n",
        "m= Model('Ligas Metalicas', sense=MAXIMIZE)"
      ],
      "execution_count": null,
      "outputs": []
    },
    {
      "cell_type": "code",
      "metadata": {
        "colab": {
          "base_uri": "https://localhost:8080/"
        },
        "id": "FekfkvvgWJHW",
        "outputId": "8b2af6db-db6c-4cd4-9d4d-6d2cc1bb6659"
      },
      "source": [
        "x= [m.add_var(name='x{}'.format(int(i)), var_type=CONTINUOUS, lb=0) for i in range (nvars)]\r\n",
        "print(x)"
      ],
      "execution_count": null,
      "outputs": [
        {
          "output_type": "stream",
          "text": [
            "[<mip.entities.Var object at 0x7fb89a567c88>, <mip.entities.Var object at 0x7fb89a567240>]\n"
          ],
          "name": "stdout"
        }
      ]
    },
    {
      "cell_type": "code",
      "metadata": {
        "id": "0TVYzm_XbDw9"
      },
      "source": [
        "m.objective= xsum(obj_coef[i]*x[i] for i in range (nvars))"
      ],
      "execution_count": null,
      "outputs": []
    },
    {
      "cell_type": "code",
      "metadata": {
        "id": "IuINr5-LXBhZ"
      },
      "source": [
        "\r\n",
        "\r\n",
        "for i in range (len(g_val)):\r\n",
        "  m += xsum(g_coef[i][j]*x[j] for j in range (nvars))<= g_val[i]\r\n"
      ],
      "execution_count": null,
      "outputs": []
    },
    {
      "cell_type": "code",
      "metadata": {
        "colab": {
          "base_uri": "https://localhost:8080/"
        },
        "id": "jN2lBOrzXLmi",
        "outputId": "5b0f5df5-47f2-4562-c9c9-5dae2ee8d82e"
      },
      "source": [
        "m.optimize()"
      ],
      "execution_count": null,
      "outputs": [
        {
          "output_type": "execute_result",
          "data": {
            "text/plain": [
              "<OptimizationStatus.OPTIMAL: 0>"
            ]
          },
          "metadata": {
            "tags": []
          },
          "execution_count": 30
        }
      ]
    },
    {
      "cell_type": "code",
      "metadata": {
        "colab": {
          "base_uri": "https://localhost:8080/"
        },
        "id": "YcREzwdDZBSG",
        "outputId": "404add43-9bb0-4372-d8a9-e6229f6e5387"
      },
      "source": [
        "print('Optimal Solution: {}'.format([x[i].x for i in range (nvars)]))"
      ],
      "execution_count": null,
      "outputs": [
        {
          "output_type": "stream",
          "text": [
            "Optimal Solution: [20.00000000000001, 19.999999999999996]\n"
          ],
          "name": "stdout"
        }
      ]
    }
  ]
}