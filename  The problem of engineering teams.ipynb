{
  "nbformat": 4,
  "nbformat_minor": 0,
  "metadata": {
    "colab": {
      "name": "o problema das equipes de engenharia.ipynb",
      "provenance": [],
      "authorship_tag": "ABX9TyPHc04HHiWP9eX0+u4HU9C0",
      "include_colab_link": true
    },
    "kernelspec": {
      "name": "python3",
      "display_name": "Python 3"
    }
  },
  "cells": [
    {
      "cell_type": "markdown",
      "metadata": {
        "id": "view-in-github",
        "colab_type": "text"
      },
      "source": [
        "<a href=\"https://colab.research.google.com/github/Mauricio235/BCC342-Linear-optimization_2021-1-/blob/main/%20The%20problem%20of%20engineering%20teams.ipynb\" target=\"_parent\"><img src=\"https://colab.research.google.com/assets/colab-badge.svg\" alt=\"Open In Colab\"/></a>"
      ]
    },
    {
      "cell_type": "markdown",
      "metadata": {
        "id": "rG_yw4z82Xct"
      },
      "source": [
        "# **The problem of engineering teams**"
      ]
    },
    {
      "cell_type": "code",
      "metadata": {
        "colab": {
          "base_uri": "https://localhost:8080/"
        },
        "id": "rQO0h0Cq2V3y",
        "outputId": "ccd9fca1-025b-44b6-f038-983fa0218c3d"
      },
      "source": [
        "!pip install mip"
      ],
      "execution_count": null,
      "outputs": [
        {
          "output_type": "stream",
          "text": [
            "Requirement already satisfied: mip in /usr/local/lib/python3.6/dist-packages (1.13.0)\n",
            "Requirement already satisfied: cffi in /usr/local/lib/python3.6/dist-packages (from mip) (1.14.4)\n",
            "Requirement already satisfied: pycparser in /usr/local/lib/python3.6/dist-packages (from cffi->mip) (2.20)\n"
          ],
          "name": "stdout"
        }
      ]
    },
    {
      "cell_type": "code",
      "metadata": {
        "id": "eI6ihZix2xZy"
      },
      "source": [
        "from mip import Model, xsum, CONTINUOUS, MAXIMIZE, MINIMIZE, INTEGER"
      ],
      "execution_count": null,
      "outputs": []
    },
    {
      "cell_type": "code",
      "metadata": {
        "id": "jRLhFxZY2031"
      },
      "source": [
        "\r\n",
        "m=Model(name='Equipes de engenharia', sense=MAXIMIZE)"
      ],
      "execution_count": null,
      "outputs": []
    },
    {
      "cell_type": "code",
      "metadata": {
        "id": "3NPgk4Cr3mtO"
      },
      "source": [
        "x= [m.add_var(var_type= CONTINUOUS, lb=0)]\r\n",
        "\r\n",
        "g=[m.add_var(name='G', lb=0)]"
      ],
      "execution_count": null,
      "outputs": []
    },
    {
      "cell_type": "code",
      "metadata": {
        "id": "rdokv1Ou5kbY"
      },
      "source": [
        "m.objective= g[0]"
      ],
      "execution_count": null,
      "outputs": []
    },
    {
      "cell_type": "code",
      "metadata": {
        "id": "FmQOhxGP5sOQ"
      },
      "source": [
        "m+= 40*x[0]+80*(1-x[0])>=g[0]\r\n",
        "m+= 80*x[0]+20*(1-x[0])>=g[0]\r\n",
        "m+=g[0]<=100\r\n",
        "m+=g[0]>=0\r\n",
        "m+=x[0]<=1\r\n",
        "m+=x[0]>=0\r\n"
      ],
      "execution_count": null,
      "outputs": []
    },
    {
      "cell_type": "code",
      "metadata": {
        "colab": {
          "base_uri": "https://localhost:8080/"
        },
        "id": "PnUirbcN8zVC",
        "outputId": "fda3b039-8cef-4ea4-d5ce-cd256f7acdfb"
      },
      "source": [
        "m.optimize()"
      ],
      "execution_count": null,
      "outputs": [
        {
          "output_type": "execute_result",
          "data": {
            "text/plain": [
              "<OptimizationStatus.OPTIMAL: 0>"
            ]
          },
          "metadata": {
            "tags": []
          },
          "execution_count": 64
        }
      ]
    },
    {
      "cell_type": "code",
      "metadata": {
        "colab": {
          "base_uri": "https://localhost:8080/"
        },
        "id": "Tp6b7Ysv-LWy",
        "outputId": "ce891480-dfa2-4dc5-a7a1-66f3818372aa"
      },
      "source": [
        "print(\"percent: {}\".format(g[0].x))\r\n",
        "print(x[0].x)"
      ],
      "execution_count": null,
      "outputs": [
        {
          "output_type": "stream",
          "text": [
            "percent: 56.00000000000001\n",
            "0.6000000000000002\n"
          ],
          "name": "stdout"
        }
      ]
    },
    {
      "cell_type": "code",
      "metadata": {
        "id": "qVhVzVwk-x5J"
      },
      "source": [
        ""
      ],
      "execution_count": null,
      "outputs": []
    }
  ]
}