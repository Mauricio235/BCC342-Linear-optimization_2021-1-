{
  "nbformat": 4,
  "nbformat_minor": 0,
  "metadata": {
    "colab": {
      "name": "O problema da dieta",
      "provenance": [],
      "authorship_tag": "ABX9TyMsA8z2IPDcC93mKUieNF8p",
      "include_colab_link": true
    },
    "kernelspec": {
      "name": "python3",
      "display_name": "Python 3"
    }
  },
  "cells": [
    {
      "cell_type": "markdown",
      "metadata": {
        "id": "view-in-github",
        "colab_type": "text"
      },
      "source": [
        "<a href=\"https://colab.research.google.com/github/Mauricio235/BCC342-Linear-optimization_2021-1-/blob/main/The%20diet%20problem.ipynb\" target=\"_parent\"><img src=\"https://colab.research.google.com/assets/colab-badge.svg\" alt=\"Open In Colab\"/></a>"
      ]
    },
    {
      "cell_type": "markdown",
      "metadata": {
        "id": "pFd6etORICjR"
      },
      "source": [
        "# The diet problem"
      ]
    },
    {
      "cell_type": "code",
      "metadata": {
        "colab": {
          "base_uri": "https://localhost:8080/"
        },
        "id": "v1PWD0nQkitC",
        "outputId": "6bc20eab-efb8-4e30-c35f-d0501a593f54"
      },
      "source": [
        "!pip install mip"
      ],
      "execution_count": 1,
      "outputs": [
        {
          "output_type": "stream",
          "text": [
            "Collecting mip\n",
            "\u001b[?25l  Downloading https://files.pythonhosted.org/packages/e5/7c/615a417b8b74dde4c3573f09c79612e3e0ed8c9b9488daf67e86cde350d2/mip-1.13.0-py3-none-any.whl (48.0MB)\n",
            "\u001b[K     |████████████████████████████████| 48.0MB 91kB/s \n",
            "\u001b[?25hRequirement already satisfied: cffi in /usr/local/lib/python3.6/dist-packages (from mip) (1.14.4)\n",
            "Requirement already satisfied: pycparser in /usr/local/lib/python3.6/dist-packages (from cffi->mip) (2.20)\n",
            "Installing collected packages: mip\n",
            "Successfully installed mip-1.13.0\n"
          ],
          "name": "stdout"
        }
      ]
    },
    {
      "cell_type": "code",
      "metadata": {
        "id": "LIt8L913kzPt"
      },
      "source": [
        "from mip import Model, xsum, MAXIMIZE, MINIMIZE, INTEGER, CONTINUOUS\r\n",
        "\r\n",
        "nvars= 4\r\n",
        "obj_coef= [2, 4, 1.5, 1]\r\n",
        "g_coef=[[2, 2, 10, 20],[50, 20, 10, 30], [80, 70, 10, 80]]\r\n",
        "g_val=[11, 70, 250]\r\n",
        "\r\n",
        "m= Model('Dieta', sense= MINIMIZE)"
      ],
      "execution_count": 2,
      "outputs": []
    },
    {
      "cell_type": "code",
      "metadata": {
        "id": "qQj33nHql5iD",
        "colab": {
          "base_uri": "https://localhost:8080/"
        },
        "outputId": "8edbded5-3092-4ef9-c852-e19d77938e9a"
      },
      "source": [
        "x= [m.add_var(name= 'x{}'.format(int(i)),var_type=CONTINUOUS, lb=0) for i in range (nvars)]\r\n",
        "print(x)"
      ],
      "execution_count": 4,
      "outputs": [
        {
          "output_type": "stream",
          "text": [
            "[<mip.entities.Var object at 0x7fcf7c27b4a8>, <mip.entities.Var object at 0x7fcf7c27b4e0>, <mip.entities.Var object at 0x7fcf7c27b438>, <mip.entities.Var object at 0x7fcf7c27b550>]\n"
          ],
          "name": "stdout"
        }
      ]
    },
    {
      "cell_type": "code",
      "metadata": {
        "id": "59LMBX-XHudF"
      },
      "source": [
        "m.objective= xsum(obj_coef[i]*x[i] for i in range (nvars))"
      ],
      "execution_count": 5,
      "outputs": []
    },
    {
      "cell_type": "code",
      "metadata": {
        "id": "AxD3K_S5Huix"
      },
      "source": [
        "for i in range (len(g_val)):\r\n",
        "  m += xsum(g_coef[i][j]*x[j] for j in range (nvars))>= g_val[i]"
      ],
      "execution_count": 6,
      "outputs": []
    },
    {
      "cell_type": "code",
      "metadata": {
        "colab": {
          "base_uri": "https://localhost:8080/"
        },
        "id": "oAYq9jXUHumH",
        "outputId": "ef9c8965-1b61-4279-8900-379965359199"
      },
      "source": [
        "m.optimize()"
      ],
      "execution_count": 7,
      "outputs": [
        {
          "output_type": "execute_result",
          "data": {
            "text/plain": [
              "<OptimizationStatus.OPTIMAL: 0>"
            ]
          },
          "metadata": {
            "tags": []
          },
          "execution_count": 7
        }
      ]
    },
    {
      "cell_type": "code",
      "metadata": {
        "colab": {
          "base_uri": "https://localhost:8080/"
        },
        "id": "EISMl_cLH4Yv",
        "outputId": "d7fa8673-4013-4ef8-87b5-5214310ba941"
      },
      "source": [
        "print('Optimal Solution: {}'.format([x[i].x for i in range (nvars)]))"
      ],
      "execution_count": 8,
      "outputs": [
        {
          "output_type": "stream",
          "text": [
            "Optimal Solution: [0.0, 0.0, 0.0, 3.125]\n"
          ],
          "name": "stdout"
        }
      ]
    },
    {
      "cell_type": "code",
      "metadata": {
        "id": "P5jEgg4RH4ha"
      },
      "source": [
        ""
      ],
      "execution_count": null,
      "outputs": []
    }
  ]
}