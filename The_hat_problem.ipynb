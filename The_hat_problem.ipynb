{
  "nbformat": 4,
  "nbformat_minor": 0,
  "metadata": {
    "colab": {
      "name": "O PROBLEMA DOS CHAPÉUS ",
      "provenance": [],
      "authorship_tag": "ABX9TyMnM6xG/z6nn8EN/Z/vODu3",
      "include_colab_link": true
    },
    "kernelspec": {
      "name": "python3",
      "display_name": "Python 3"
    }
  },
  "cells": [
    {
      "cell_type": "markdown",
      "metadata": {
        "id": "view-in-github",
        "colab_type": "text"
      },
      "source": [
        "<a href=\"https://colab.research.google.com/github/Mauricio235/BCC342-Linear-optimization_2021-1-/blob/main/The_hat_problem.ipynb\" target=\"_parent\"><img src=\"https://colab.research.google.com/assets/colab-badge.svg\" alt=\"Open In Colab\"/></a>"
      ]
    },
    {
      "cell_type": "markdown",
      "metadata": {
        "id": "YxCRIXmruAt8"
      },
      "source": [
        "# The hat problem "
      ]
    },
    {
      "cell_type": "code",
      "metadata": {
        "colab": {
          "base_uri": "https://localhost:8080/"
        },
        "id": "jtgYs797uBhk",
        "outputId": "85400238-5375-48d0-88fe-c8cb5f99b838"
      },
      "source": [
        "!pip install mip"
      ],
      "execution_count": 2,
      "outputs": [
        {
          "output_type": "stream",
          "text": [
            "Requirement already satisfied: mip in /usr/local/lib/python3.6/dist-packages (1.13.0)\n",
            "Requirement already satisfied: cffi in /usr/local/lib/python3.6/dist-packages (from mip) (1.14.4)\n",
            "Requirement already satisfied: pycparser in /usr/local/lib/python3.6/dist-packages (from cffi->mip) (2.20)\n"
          ],
          "name": "stdout"
        }
      ]
    },
    {
      "cell_type": "code",
      "metadata": {
        "id": "ZL2iCasy5zRK"
      },
      "source": [
        "from mip import Model, xsum, MINIMIZE, MAXIMIZE, CONTINUOUS, INTEGER"
      ],
      "execution_count": 3,
      "outputs": []
    },
    {
      "cell_type": "code",
      "metadata": {
        "id": "MD-0ujjs57xm"
      },
      "source": [
        "nvars= 2\r\n",
        "obj_coef= [8, 5]\r\n",
        "g_coef=[150, -200]\r\n",
        "h_coef=[150, 200]\r\n",
        "\r\n",
        "m= Model(name='Fabrica de chapeus', sense= MAXIMIZE)"
      ],
      "execution_count": 4,
      "outputs": []
    },
    {
      "cell_type": "code",
      "metadata": {
        "colab": {
          "base_uri": "https://localhost:8080/"
        },
        "id": "kWbZRQBa6uSI",
        "outputId": "4570ccc5-5d3b-4456-c921-5b3e007ee339"
      },
      "source": [
        "x= [m.add_var(var_type=INTEGER, lb=0) for i in range (nvars)]\r\n",
        "print(x)"
      ],
      "execution_count": 5,
      "outputs": [
        {
          "output_type": "stream",
          "text": [
            "[<mip.entities.Var object at 0x7f001db99ac8>, <mip.entities.Var object at 0x7f001db99be0>]\n"
          ],
          "name": "stdout"
        }
      ]
    },
    {
      "cell_type": "code",
      "metadata": {
        "id": "K8yhf04F7HyJ"
      },
      "source": [
        "m.objective= xsum(obj_coef[i]*x[i] for i in range (nvars))"
      ],
      "execution_count": 6,
      "outputs": []
    },
    {
      "cell_type": "code",
      "metadata": {
        "id": "M8zkTX8m7PaI"
      },
      "source": [
        "m+= (x[0]<=h_coef[0])\r\n",
        "m+= (x[1]<=h_coef[1])\r\n",
        "m+= (x[1]<=400)"
      ],
      "execution_count": 7,
      "outputs": []
    },
    {
      "cell_type": "code",
      "metadata": {
        "colab": {
          "base_uri": "https://localhost:8080/"
        },
        "id": "K9IPZ5is7ax_",
        "outputId": "d90fcb90-4c9b-4f34-da65-bacffe725d91"
      },
      "source": [
        "m.optimize()"
      ],
      "execution_count": 8,
      "outputs": [
        {
          "output_type": "execute_result",
          "data": {
            "text/plain": [
              "<OptimizationStatus.OPTIMAL: 0>"
            ]
          },
          "metadata": {
            "tags": []
          },
          "execution_count": 8
        }
      ]
    },
    {
      "cell_type": "code",
      "metadata": {
        "colab": {
          "base_uri": "https://localhost:8080/"
        },
        "id": "FlscAlAJ72gp",
        "outputId": "5b301288-7b19-4ed9-cfb5-7eea710799a8"
      },
      "source": [
        "print('Optimal Solution: {}'.format([x[i].x for i in range(nvars)]))"
      ],
      "execution_count": 9,
      "outputs": [
        {
          "output_type": "stream",
          "text": [
            "Optimal Solution: [150.0, 200.0]\n"
          ],
          "name": "stdout"
        }
      ]
    }
  ]
}